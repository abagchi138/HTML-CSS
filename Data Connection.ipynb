{
 "cells": [
  {
   "cell_type": "code",
   "execution_count": 1,
   "id": "08c7866f",
   "metadata": {},
   "outputs": [],
   "source": [
    "import os\n",
    "import pandas as pd"
   ]
  },
  {
   "cell_type": "code",
   "execution_count": 2,
   "id": "6f84f3b9",
   "metadata": {},
   "outputs": [],
   "source": [
    "csvpath= os.path.join(\"Resources\", \"cities.csv\")\n",
    "cities= pd.read_csv(csvpath)"
   ]
  },
  {
   "cell_type": "code",
   "execution_count": 4,
   "id": "32fe32e3",
   "metadata": {},
   "outputs": [],
   "source": [
    "cities.to_html(\"data.html\", index= False, classes= [\"table\",\"table-striped\", \"table-hover\"])"
   ]
  },
  {
   "cell_type": "code",
   "execution_count": null,
   "id": "ca34808c",
   "metadata": {},
   "outputs": [],
   "source": []
  }
 ],
 "metadata": {
  "kernelspec": {
   "display_name": "Python 3 (ipykernel)",
   "language": "python",
   "name": "python3"
  },
  "language_info": {
   "codemirror_mode": {
    "name": "ipython",
    "version": 3
   },
   "file_extension": ".py",
   "mimetype": "text/x-python",
   "name": "python",
   "nbconvert_exporter": "python",
   "pygments_lexer": "ipython3",
   "version": "3.9.7"
  }
 },
 "nbformat": 4,
 "nbformat_minor": 5
}
